{
  "nbformat": 4,
  "nbformat_minor": 0,
  "metadata": {
    "colab": {
      "name": "Untitled3.ipynb",
      "private_outputs": true,
      "provenance": [],
      "authorship_tag": "ABX9TyNf3wVM/8U22gEGTNOvfBOl",
      "include_colab_link": true
    },
    "kernelspec": {
      "name": "python3",
      "display_name": "Python 3"
    },
    "language_info": {
      "name": "python"
    },
    "accelerator": "GPU"
  },
  "cells": [
    {
      "cell_type": "markdown",
      "metadata": {
        "id": "view-in-github",
        "colab_type": "text"
      },
      "source": [
        "<a href=\"https://colab.research.google.com/github/rezacsedu/Genetic-CNN/blob/master/Untitled3.ipynb\" target=\"_parent\"><img src=\"https://colab.research.google.com/assets/colab-badge.svg\" alt=\"Open In Colab\"/></a>"
      ]
    },
    {
      "cell_type": "code",
      "metadata": {
        "id": "z8oFfYGW8LhJ"
      },
      "source": [
        "#!/usr/bin/env python\n",
        "# coding: utf-8\n",
        "\n",
        "import warnings\n",
        "warnings.filterwarnings(\"ignore\")\n",
        "import pandas as pd\n",
        "import os\n",
        "from sklearn.svm import SVC\n",
        "from sklearn.linear_model import LogisticRegression\n",
        "from sklearn.tree import DecisionTreeClassifier\n",
        "from sklearn.ensemble import RandomForestClassifier\n",
        "from sklearn.ensemble import GradientBoostingClassifier\n",
        "from sklearn.multiclass import OneVsRestClassifier\n",
        "from sklearn.model_selection import train_test_split\n",
        "from sklearn import preprocessing\n",
        "from sklearn.ensemble import AdaBoostClassifier\n",
        "import pickle\n",
        "\n",
        "# paths to train and test csv\n",
        "train_csv = '/content/sample_data/train_extended.csv'\n",
        "test_csv = '/content/sample_data/test.csv'\n",
        "\n",
        "df = pd.read_csv(train_csv, header=0)\n",
        "df = df.sample(frac=1).reset_index(drop=True)\n",
        "df = df.sample(n=1000)\n",
        "df = df.drop(columns=['CRM_2396_PACK', 'CRM_2398_PACK'], axis = 1)\n",
        "\n",
        "# input CRM features\n",
        "X = df.loc[:, 'CRM_BUSINESS_LINE_ORIG_Mobile':'CRM_2397_PACK']\n",
        "# BILLING configuration\n",
        "y = df.loc[:, 'BIL_BUSINESS_LINE_ORIG_Mobile':'BIL_4510_PACK']\n",
        "\n",
        "#X = preprocessing.scale(X)\n",
        "\n",
        "SEED = 7\n",
        "X_train, X_test, y_train, y_test = train_test_split(X, y, test_size=0.1, random_state=SEED)\n",
        "\n",
        "def emr(a, b):\n",
        "    len_labelset = len(a[0])    \n",
        "    return ((a == b).sum(axis=1) == len_labelset).sum() / float(len(a))\n",
        "\n",
        "MODELS = ['ADA', 'SVC']\n",
        "\n",
        "# save trained model or not\n",
        "save_model_to_disk = True\n",
        "# path to model saved directory\n",
        "model_save_dir = 'checkpoints'\n",
        "# generate csv submission file or not after each model training finished\n",
        "generate_submission_file = True\n",
        "# submission csv directory\n",
        "submission_csv_dir = 'submissions'\n",
        "\n",
        "# create model saved directory\n",
        "if save_model_to_disk:\n",
        "    os.makedirs(model_save_dir, exist_ok=True)\n",
        "\n",
        "# load test df only in 1st time\n",
        "if generate_submission_file:\n",
        "    os.makedirs(submission_csv_dir, exist_ok=True)"
      ],
      "execution_count": null,
      "outputs": []
    },
    {
      "cell_type": "code",
      "metadata": {
        "id": "JgCzq9LaAbr6"
      },
      "source": [
        "# setup parameters for xgboost\n",
        "param = {}\n",
        "param['booster'] = 'gbtree'\n",
        "param['objective'] = 'multi:softmax'\n",
        "param[\"eval_metric\"] = \"error\"\n",
        "param['eta'] = 0.3\n",
        "param['gamma'] = 0\n",
        "param['max_depth'] = 6\n",
        "param['min_child_weight']=1\n",
        "param['max_delta_step'] = 0\n",
        "param['subsample']= 1\n",
        "param['colsample_bytree']=1\n",
        "param['silent'] = 1\n",
        "param['seed'] = 0\n",
        "param['base_score'] = 0.5\n",
        "param['gpu_id'] = 0\n",
        "param['tree_method'] = 'gpu_hist'\n",
        "param['updater']= 'grow_gpu'\n",
        "param['num_class'] = 731"
      ],
      "execution_count": null,
      "outputs": []
    },
    {
      "cell_type": "code",
      "metadata": {
        "id": "SZfhHmGQ9PAm"
      },
      "source": [
        "import xgboost as xgb"
      ],
      "execution_count": null,
      "outputs": []
    },
    {
      "cell_type": "code",
      "metadata": {
        "id": "3LHbY6KjF8ly"
      },
      "source": [
        "train = xgb.DMatrix(X_train, label=y_train.values)\n",
        "clf = xgb.train(param, train, num_boost_round=10)"
      ],
      "execution_count": null,
      "outputs": []
    },
    {
      "cell_type": "code",
      "metadata": {
        "id": "1rA0g8AgJVIX"
      },
      "source": [
        "test = xgb.DMatrix(X_test, label=y_test.values)\n",
        "gb_prediction = clf.predict(test)"
      ],
      "execution_count": null,
      "outputs": []
    },
    {
      "cell_type": "code",
      "metadata": {
        "id": "YUwhhvoXKtdp"
      },
      "source": [
        "type(gb_prediction)"
      ],
      "execution_count": null,
      "outputs": []
    },
    {
      "cell_type": "code",
      "metadata": {
        "id": "reoXhuOyKKKe"
      },
      "source": [
        "def emr(a, b):\n",
        "    len_labelset = len(a[0])    \n",
        "    return ((a == b).sum(axis=1) == len_labelset).sum() / float(len(a))"
      ],
      "execution_count": null,
      "outputs": []
    },
    {
      "cell_type": "code",
      "metadata": {
        "id": "RinweAbZLMiA"
      },
      "source": [
        "len_labelset = len(gb_prediction[0])\n",
        "len_labelset"
      ],
      "execution_count": null,
      "outputs": []
    },
    {
      "cell_type": "code",
      "metadata": {
        "id": "4pZs9iVZJovY"
      },
      "source": [
        "emr(gb_prediction, y_test)"
      ],
      "execution_count": null,
      "outputs": []
    }
  ]
}